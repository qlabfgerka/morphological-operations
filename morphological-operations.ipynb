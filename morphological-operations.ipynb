{
 "cells": [
  {
   "cell_type": "code",
   "execution_count": null,
   "metadata": {},
   "outputs": [],
   "source": [
    "import cv2\n",
    "import numpy as np\n",
    "import matplotlib.pyplot as pyplot\n",
    "import os\n",
    "import re\n",
    "import math\n",
    "from enum import Enum"
   ]
  },
  {
   "cell_type": "code",
   "execution_count": null,
   "metadata": {},
   "outputs": [],
   "source": [
    "class Filter(Enum):\n",
    "  RECTANGLE = cv2.MORPH_RECT\n",
    "  CROSS = cv2.MORPH_CROSS\n",
    "  ELLIPSE = cv2.MORPH_ELLIPSE"
   ]
  },
  {
   "cell_type": "code",
   "execution_count": null,
   "metadata": {},
   "outputs": [],
   "source": [
    "ASSETS_FOLDER = \"assets/\"\n",
    "OUTPUT_FOLDER = \"output/\"\n",
    "SHAPE = (5, 5)"
   ]
  },
  {
   "cell_type": "code",
   "execution_count": null,
   "metadata": {},
   "outputs": [],
   "source": [
    "def display_image(image, title):\n",
    "  imgplot = pyplot.imshow(image, cmap=\"gray\")\n",
    "  pyplot.axis('off')\n",
    "  pyplot.title(title)\n",
    "  pyplot.show()"
   ]
  },
  {
   "cell_type": "code",
   "execution_count": null,
   "metadata": {},
   "outputs": [],
   "source": [
    "def display_images(images, titles):\n",
    "  fig, ax = pyplot.subplots(1, len(images))\n",
    "  fig.set_figheight(15)\n",
    "  fig.set_figwidth(15)\n",
    "  fig.tight_layout()\n",
    "  \n",
    "  for n in range(len(images)):\n",
    "    ax[n].set_title(titles[n], fontsize=16)\n",
    "    ax[n].imshow(images[n])\n",
    "    ax[n].set_axis_off()"
   ]
  },
  {
   "cell_type": "code",
   "execution_count": null,
   "metadata": {},
   "outputs": [],
   "source": [
    "def fix_image(image):\n",
    "  image[image > 1] = 1\n",
    "  image[image <= 0] = 0\n",
    "  return image"
   ]
  },
  {
   "cell_type": "code",
   "execution_count": null,
   "metadata": {},
   "outputs": [],
   "source": [
    "def load_image(filename):\n",
    "  image = cv2.imread(ASSETS_FOLDER + filename, -1)\n",
    "  max_value = np.iinfo(image.dtype).max\n",
    "\n",
    "  if image is not None:\n",
    "    image = image.astype(np.float32)\n",
    "    image = image / max_value\n",
    "    image = fix_image(image)\n",
    "\n",
    "    return image"
   ]
  },
  {
   "cell_type": "code",
   "execution_count": null,
   "metadata": {},
   "outputs": [],
   "source": [
    "def get_filter(shape, type):\n",
    "  return cv2.getStructuringElement(type, shape)"
   ]
  },
  {
   "cell_type": "code",
   "execution_count": null,
   "metadata": {},
   "outputs": [],
   "source": [
    "def erode(image, filter):\n",
    "  return cv2.erode(image, filter, iterations=1)"
   ]
  },
  {
   "cell_type": "code",
   "execution_count": null,
   "metadata": {},
   "outputs": [],
   "source": [
    "def dilate(image, filter):\n",
    "  return cv2.dilate(image, filter, iterations=1)"
   ]
  },
  {
   "cell_type": "code",
   "execution_count": null,
   "metadata": {},
   "outputs": [],
   "source": [
    "for filter in Filter:\n",
    "  image = load_image(\"j.png\")\n",
    "  images = [\n",
    "    image,\n",
    "    erode(image, get_filter(SHAPE, filter.value)),\n",
    "    dilate(image, get_filter(SHAPE, filter.value))\n",
    "  ]\n",
    "  titles = [\n",
    "    \"ORIGINAL\", \"ERODED WITH \" + filter.name + \" FILTER\", \"DILATED WITH \" + filter.name + \" FILTER\"\n",
    "  ]\n",
    "\n",
    "  display_images(images, titles)"
   ]
  }
 ],
 "metadata": {
  "kernelspec": {
   "display_name": "Python 3.10.2 64-bit",
   "language": "python",
   "name": "python3"
  },
  "language_info": {
   "codemirror_mode": {
    "name": "ipython",
    "version": 3
   },
   "file_extension": ".py",
   "mimetype": "text/x-python",
   "name": "python",
   "nbconvert_exporter": "python",
   "pygments_lexer": "ipython3",
   "version": "3.10.2"
  },
  "orig_nbformat": 4,
  "vscode": {
   "interpreter": {
    "hash": "6532684ccaeb1bcbbe852b7f75c67e6f1d55df7d386020fd37670376cbe3d2c9"
   }
  }
 },
 "nbformat": 4,
 "nbformat_minor": 2
}
