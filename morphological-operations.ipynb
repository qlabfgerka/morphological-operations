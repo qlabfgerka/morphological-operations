{
 "cells": [
  {
   "cell_type": "code",
   "execution_count": null,
   "metadata": {},
   "outputs": [],
   "source": [
    "import cv2\n",
    "import numpy as np\n",
    "import matplotlib.pyplot as pyplot\n",
    "import os\n",
    "import re\n",
    "import math\n",
    "import time\n",
    "from enum import Enum"
   ]
  },
  {
   "cell_type": "markdown",
   "metadata": {},
   "source": [
    "# Pomožne funkcije\n",
    "\n",
    "Globalne spremenljivke za direktorij z vhodnimi slikami in velikost filtra.\n",
    "\n",
    "V direktorij, ki je definiran z `ASSETS_FOLDER` se za določena področja pridobijo izračunani indeksi, s pomočjo prve naloge.\n",
    "\n",
    "Direktorij mora obstajati za pravilno delovanje programa.\n",
    "\n",
    "Aplikacija podpira filtre, kjer se s pomočjo vhodnega parametra S izračuna velikost po formuli:\n",
    "\n",
    "$ SIZE = 2 * S + 1 $\n",
    "\n",
    "$ SHAPE = (SIZE, SIZE) $"
   ]
  },
  {
   "cell_type": "code",
   "execution_count": null,
   "metadata": {},
   "outputs": [],
   "source": [
    "ASSETS_FOLDER = \"assets/\"\n",
    "S = 3\n",
    "\n",
    "SHAPE = (2 * S + 1, 2 * S + 1)"
   ]
  },
  {
   "cell_type": "markdown",
   "metadata": {},
   "source": [
    "Enum razred, ki vsebuje vse podprte filtre."
   ]
  },
  {
   "cell_type": "code",
   "execution_count": null,
   "metadata": {},
   "outputs": [],
   "source": [
    "class Filter(Enum):\n",
    "  RECTANGLE = cv2.MORPH_RECT\n",
    "  CROSS = cv2.MORPH_CROSS\n",
    "  ELLIPSE = cv2.MORPH_ELLIPSE"
   ]
  },
  {
   "cell_type": "markdown",
   "metadata": {},
   "source": [
    "Pomožna funkcija za prikaz slike."
   ]
  },
  {
   "cell_type": "code",
   "execution_count": null,
   "metadata": {},
   "outputs": [],
   "source": [
    "def display_image(image, title):\n",
    "  imgplot = pyplot.imshow(image, cmap=\"gray\")\n",
    "  pyplot.axis('off')\n",
    "  pyplot.title(title)\n",
    "  pyplot.show()"
   ]
  },
  {
   "cell_type": "markdown",
   "metadata": {},
   "source": [
    "Slike so normalizirane na interval `[0, 1]`, vendar lahko pri normalizaciji pride do napak, zato se vse vrednosti, ki so izven tega intervala popravijo na ustrezne vrednosti."
   ]
  },
  {
   "cell_type": "code",
   "execution_count": null,
   "metadata": {},
   "outputs": [],
   "source": [
    "def fix_image(image):\n",
    "  image[image > 1] = 1\n",
    "  image[image <= 0] = 0\n",
    "  return image"
   ]
  },
  {
   "cell_type": "markdown",
   "metadata": {},
   "source": [
    "Funkcija, ki naloži sliko iz diska in jo normalizira."
   ]
  },
  {
   "cell_type": "code",
   "execution_count": null,
   "metadata": {},
   "outputs": [],
   "source": [
    "def load_image(filename):\n",
    "  image = cv2.imread(ASSETS_FOLDER + filename, -1)\n",
    "\n",
    "  if image is not None:\n",
    "    return image"
   ]
  },
  {
   "cell_type": "markdown",
   "metadata": {},
   "source": [
    "Funkcija, ki dobi kot parametra dve sliki enake velikosti, kot rezultat pa vrne sliko, ki za vsak piksel vsebuje največjo vrednost izmed dveh vhodnih parametrov."
   ]
  },
  {
   "cell_type": "code",
   "execution_count": null,
   "metadata": {},
   "outputs": [],
   "source": [
    "def get_max(first, second):\n",
    "  return np.maximum(first, second)"
   ]
  },
  {
   "cell_type": "markdown",
   "metadata": {},
   "source": [
    "Funkcija, ki dobi kot parametra dve sliki enake velikosti, kot rezultat pa vrne sliko, ki za vsak piksel vsebuje najmanjšo vrednost izmed dveh vhodnih parametrov."
   ]
  },
  {
   "cell_type": "code",
   "execution_count": null,
   "metadata": {},
   "outputs": [],
   "source": [
    "def get_min(first, second):\n",
    "  return np.minimum(first, second)"
   ]
  },
  {
   "cell_type": "markdown",
   "metadata": {},
   "source": [
    "Aplikacija omogoča uporabo večih različnih tipov filtrov, natančneje tistih, ki so definirani v zgornjem Enumu, tukaj pa se s pomočjo knjižnice OpenCV generirajo glede na podano velikost in podan tip filtra."
   ]
  },
  {
   "cell_type": "code",
   "execution_count": null,
   "metadata": {},
   "outputs": [],
   "source": [
    "def get_filter(shape, type):\n",
    "  return cv2.getStructuringElement(type, shape)"
   ]
  },
  {
   "cell_type": "markdown",
   "metadata": {},
   "source": [
    "Pomožna funkcija za krčenje nad podano sliko s podanim filtrom.\n",
    "\n",
    "Krčenje za vsak piksel v sliki pregleda okolico, ki je definirana z enicami v filtru in kot izhod vrne najmanjši piksel."
   ]
  },
  {
   "cell_type": "code",
   "execution_count": null,
   "metadata": {},
   "outputs": [],
   "source": [
    "def erode(image, filter):\n",
    "  return cv2.erode(image, filter, iterations=1)"
   ]
  },
  {
   "cell_type": "markdown",
   "metadata": {},
   "source": [
    "Pomožna funkcija za širjenje nad podano sliko s podanim filtrom.\n",
    "\n",
    "Širjenje za vsak piksel v sliki pregleda okolico, ki je definirana z enicami v filtru in kot izhod vrne največji piksel."
   ]
  },
  {
   "cell_type": "code",
   "execution_count": null,
   "metadata": {},
   "outputs": [],
   "source": [
    "def dilate(image, filter):\n",
    "  return cv2.dilate(image, filter, iterations=1)"
   ]
  },
  {
   "cell_type": "markdown",
   "metadata": {},
   "source": [
    "Pomožna funkcija za odpiranje nad podano sliko s podanim filtrom prvo izvede krčenje, nato pa širjenje."
   ]
  },
  {
   "cell_type": "code",
   "execution_count": null,
   "metadata": {},
   "outputs": [],
   "source": [
    "def opening(image, filter):\n",
    "  eroded = erode(image, filter)\n",
    "  return dilate(eroded, filter)"
   ]
  },
  {
   "cell_type": "markdown",
   "metadata": {},
   "source": [
    "Pomožna funkcija za odpiranje nad podano sliko s podanim filtrom prvo izvede širjenje, nato pa krčenje."
   ]
  },
  {
   "cell_type": "code",
   "execution_count": null,
   "metadata": {},
   "outputs": [],
   "source": [
    "def closing(image, filter):\n",
    "  dilated = dilate(image, filter)\n",
    "  return erode(dilated, filter)"
   ]
  },
  {
   "cell_type": "markdown",
   "metadata": {},
   "source": [
    "Sledi odpiranje z rekonstrukcijo, ki deluje po naslednjem postopku:\n",
    "1. Nad vhodno sliko izvede krčenje s podanim filtrom\n",
    "2. Nad rezultatom iz 1. koraka izvede širjenje s poljubnim filtrom velikosti `S = 1`, kar po enačbi zapisani zgoraj vrne filter oblike `(3, 3)` \n",
    "3. Z vhodno sliko in rezultatom iz 2. koraka v novo sliko zapiše najmanjše vrednosti enakoležečih pikslov\n",
    "4. Drugi in tretji korak se izvajata dokler nista dva zaporedna izhoda enaka"
   ]
  },
  {
   "cell_type": "code",
   "execution_count": null,
   "metadata": {},
   "outputs": [],
   "source": [
    "def opening_with_reconstruction(image, filter, f):\n",
    "  start = time.time()\n",
    "  reconstructed = erode(image, filter)\n",
    "  previous = None\n",
    "\n",
    "  iterations = 0\n",
    "  equal = 0\n",
    "\n",
    "  while equal < 2:\n",
    "    iterations += 1\n",
    "\n",
    "    previous = reconstructed\n",
    "    max = dilate(reconstructed, get_filter((3, 3), f.value))\n",
    "    reconstructed = get_min(image, max)\n",
    "\n",
    "    if np.array_equal(previous, reconstructed):\n",
    "      equal += 1\n",
    "    else: \n",
    "      equal = 0\n",
    "\n",
    "  end = time.time()\n",
    "  duration = end - start\n",
    "\n",
    "  print(\"OPENING WITH RECONSTRUCTION WITH \" + f.name + \" FILTER TOOK \" + str(iterations) + \" ITERATIONS AND TOOK \" + str(duration) + \" SECONDS\")\n",
    "\n",
    "  return reconstructed"
   ]
  },
  {
   "cell_type": "markdown",
   "metadata": {},
   "source": [
    "In še zapiranje z rekonstrukcijo, ki deluje po naslednjem postopku:\n",
    "1. Nad vhodno sliko izvede širjenje s podanim filtrom\n",
    "2. Nad rezultatom iz 1. koraka izvede krčenje s poljubnim filtrom velikosti `S = 1`, kar po enačbi zapisani zgoraj vrne filter oblike `(3, 3)` \n",
    "3. Z vhodno sliko in rezultatom iz 2. koraka v novo sliko zapiše največje vrednosti enakoležečih pikslov\n",
    "4. Drugi in tretji korak se izvajata dokler nista dva zaporedna izhoda enaka"
   ]
  },
  {
   "cell_type": "code",
   "execution_count": null,
   "metadata": {},
   "outputs": [],
   "source": [
    "def closing_with_reconstruction(image, filter, f):\n",
    "  start = time.time()\n",
    "  reconstructed = dilate(image, filter)\n",
    "  previous = None\n",
    "  \n",
    "  iterations = 0\n",
    "  equal = 0\n",
    "\n",
    "  while equal < 2:\n",
    "    iterations += 1\n",
    "\n",
    "    previous = reconstructed\n",
    "    min = erode(reconstructed, get_filter((3, 3), f.value))\n",
    "    reconstructed = get_max(image, min)\n",
    "\n",
    "    if np.array_equal(previous, reconstructed):\n",
    "      equal += 1\n",
    "    else: \n",
    "      equal = 0\n",
    "\n",
    "  end = time.time()\n",
    "  duration = end - start\n",
    "\n",
    "  print(\"CLOSING WITH RECONSTRUCTION WITH \" + f.name + \" FILTER TOOK \" + str(iterations) + \" ITERATIONS AND TOOK \" + str(duration) + \" SECONDS\")\n",
    "\n",
    "  return reconstructed"
   ]
  },
  {
   "cell_type": "markdown",
   "metadata": {},
   "source": [
    "# Glavni del programa\n",
    "\n",
    "V tem kratkem odseku pa se za vse slike v direktorju `ASSETS_FOLDER` izvedejo operacije krčenja, širjenja, odpiranja, zapiranja, odpiranja z rekonstrukcijo in zapiranja z rekonstrukcijo."
   ]
  },
  {
   "cell_type": "code",
   "execution_count": null,
   "metadata": {},
   "outputs": [],
   "source": [
    "for filename in os.listdir(ASSETS_FOLDER):\n",
    "  image = load_image(filename)\n",
    "\n",
    "  if image is not None:\n",
    "    name = filename.split(\".\")\n",
    "    print(\"------------------------------------\")\n",
    "    print(\"HANDLING: \" + filename)\n",
    "    for filter in Filter:\n",
    "      print(\"HANDLING FILTER: \" + filter.name)\n",
    "      \n",
    "      kernel = get_filter(SHAPE, filter.value)\n",
    "      \n",
    "      display_image(image, \"ORIGINAL (\" + name[0] + \")\")\n",
    "\n",
    "      handled = erode(image, kernel)\n",
    "      display_image(handled, \"ERODED WITH \" + filter.name + \" FILTER\")\n",
    "\n",
    "      handled = dilate(image, kernel)\n",
    "      display_image(handled, \"DILATED WITH \" + filter.name + \" FILTER\")\n",
    "\n",
    "      handled = opening(image, kernel)\n",
    "      display_image(handled, \"OPENING WITH \" + filter.name + \" FILTER\")\n",
    "\n",
    "      handled = closing(image, kernel)\n",
    "      display_image(handled, \"CLOSING WITH \" + filter.name + \" FILTER\")\n",
    "\n",
    "      handled = opening_with_reconstruction(image, kernel, filter)\n",
    "      display_image(handled, \"OPENING WITH RECONSTRUCTION WITH \" + filter.name + \" FILTER\")\n",
    "\n",
    "      handled = closing_with_reconstruction(image, kernel, filter)\n",
    "      display_image(handled, \"CLOSING WITH RECONSTRUCTION WITH \" + filter.name + \" FILTER\")"
   ]
  }
 ],
 "metadata": {
  "kernelspec": {
   "display_name": "Python 3.10.2 64-bit",
   "language": "python",
   "name": "python3"
  },
  "language_info": {
   "codemirror_mode": {
    "name": "ipython",
    "version": 3
   },
   "file_extension": ".py",
   "mimetype": "text/x-python",
   "name": "python",
   "nbconvert_exporter": "python",
   "pygments_lexer": "ipython3",
   "version": "3.10.2"
  },
  "orig_nbformat": 4,
  "vscode": {
   "interpreter": {
    "hash": "6532684ccaeb1bcbbe852b7f75c67e6f1d55df7d386020fd37670376cbe3d2c9"
   }
  }
 },
 "nbformat": 4,
 "nbformat_minor": 2
}
